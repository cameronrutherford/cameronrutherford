{
 "cells": [
  {
   "cell_type": "markdown",
   "metadata": {},
   "source": [
    "---\n",
    "title: \"Testing Manim for example presentation\"\n",
    "format:\n",
    "    html: default\n",
    "    ipynb: default\n",
    "---"
   ]
  },
  {
   "cell_type": "markdown",
   "metadata": {},
   "source": [
    "# Pip\n",
    "\n",
    "Most everything in the environments will be installed with pip/poetry for convenience's sake."
   ]
  },
  {
   "cell_type": "code",
   "execution_count": 1,
   "metadata": {
    "tags": [],
    "vscode": {
     "languageId": "shellscript"
    }
   },
   "outputs": [
    {
     "name": "stdout",
     "output_type": "stream",
     "text": [
      "Package                   Version\n",
      "------------------------- ---------\n",
      "anyio                     4.0.0\n",
      "argon2-cffi               23.1.0\n",
      "argon2-cffi-bindings      21.2.0\n",
      "arrow                     1.3.0\n",
      "asttokens                 2.4.1\n",
      "async-lru                 2.0.4\n",
      "attrs                     23.1.0\n",
      "Babel                     2.13.1\n",
      "backcall                  0.2.0\n",
      "beautifulsoup4            4.12.2\n",
      "bleach                    6.1.0\n",
      "certifi                   2023.7.22\n",
      "cffi                      1.16.0\n",
      "charset-normalizer        3.3.1\n",
      "click                     8.1.7\n",
      "click-default-group       1.2.4\n",
      "cloup                     0.13.1\n",
      "comm                      0.1.4\n",
      "debugpy                   1.8.0\n",
      "decorator                 5.1.1\n",
      "defusedxml                0.7.1\n",
      "executing                 2.0.0\n",
      "fastjsonschema            2.18.1\n",
      "fqdn                      1.5.1\n",
      "glcontext                 2.5.0\n",
      "idna                      3.4\n",
      "importlib-metadata        6.8.0\n",
      "ipykernel                 6.26.0\n",
      "ipython                   8.16.1\n",
      "isoduration               20.11.0\n",
      "isosurfaces               0.1.0\n",
      "jedi                      0.19.1\n",
      "Jinja2                    3.1.2\n",
      "json5                     0.9.14\n",
      "jsonpointer               2.4\n",
      "jsonschema                4.19.1\n",
      "jsonschema-specifications 2023.7.1\n",
      "jupyter_client            8.5.0\n",
      "jupyter_core              5.4.0\n",
      "jupyter-events            0.8.0\n",
      "jupyter-lsp               2.2.0\n",
      "jupyter_server            2.9.1\n",
      "jupyter_server_terminals  0.4.4\n",
      "jupyterlab                4.0.7\n",
      "jupyterlab-pygments       0.2.2\n",
      "jupyterlab_server         2.25.0\n",
      "manim                     0.17.3\n",
      "manim-revealjs            1.0.2\n",
      "ManimPango                0.5.0\n",
      "mapbox-earcut             1.0.1\n",
      "markdown-it-py            3.0.0\n",
      "MarkupSafe                2.1.3\n",
      "matplotlib-inline         0.1.6\n",
      "mdurl                     0.1.2\n",
      "mistune                   3.0.2\n",
      "moderngl                  5.8.2\n",
      "moderngl-window           2.4.4\n",
      "multipledispatch          1.0.0\n",
      "nbclient                  0.8.0\n",
      "nbconvert                 7.9.2\n",
      "nbformat                  5.9.2\n",
      "nest-asyncio              1.5.8\n",
      "networkx                  2.8.8\n",
      "notebook_shim             0.2.3\n",
      "numpy                     1.26.1\n",
      "overrides                 7.4.0\n",
      "packaging                 23.2\n",
      "pandocfilters             1.5.0\n",
      "parso                     0.8.3\n",
      "pexpect                   4.8.0\n",
      "pickleshare               0.7.5\n",
      "Pillow                    9.5.0\n",
      "pip                       23.3.1\n",
      "platformdirs              3.11.0\n",
      "prometheus-client         0.17.1\n",
      "prompt-toolkit            3.0.39\n",
      "psutil                    5.9.6\n",
      "ptyprocess                0.7.0\n",
      "pure-eval                 0.2.2\n",
      "pycairo                   1.25.1\n",
      "pycparser                 2.21\n",
      "pydub                     0.25.1\n",
      "pyglet                    2.0.9\n",
      "Pygments                  2.16.1\n",
      "pyrr                      0.10.3\n",
      "python-dateutil           2.8.2\n",
      "python-json-logger        2.0.7\n",
      "PyYAML                    6.0.1\n",
      "pyzmq                     25.1.1\n",
      "referencing               0.30.2\n",
      "requests                  2.31.0\n",
      "rfc3339-validator         0.1.4\n",
      "rfc3986-validator         0.1.1\n",
      "rich                      13.6.0\n",
      "rpds-py                   0.10.6\n",
      "scipy                     1.11.3\n",
      "screeninfo                0.8.1\n",
      "Send2Trash                1.8.2\n",
      "setuptools                68.2.2\n",
      "six                       1.16.0\n",
      "skia-pathops              0.7.4\n",
      "sniffio                   1.3.0\n",
      "soupsieve                 2.5\n",
      "srt                       3.5.3\n",
      "stack-data                0.6.3\n",
      "svgelements               1.9.6\n",
      "terminado                 0.17.1\n",
      "tinycss2                  1.2.1\n",
      "tornado                   6.3.3\n",
      "tqdm                      4.66.1\n",
      "traitlets                 5.12.0\n",
      "types-python-dateutil     2.8.19.14\n",
      "typing_extensions         4.8.0\n",
      "uri-template              1.3.0\n",
      "urllib3                   2.0.7\n",
      "watchdog                  2.3.1\n",
      "watermark                 2.4.3\n",
      "wcwidth                   0.2.8\n",
      "webcolors                 1.13\n",
      "webencodings              0.5.1\n",
      "websocket-client          1.6.4\n",
      "wheel                     0.41.2\n",
      "zipp                      3.17.0\n"
     ]
    }
   ],
   "source": [
    "!pip list"
   ]
  },
  {
   "cell_type": "markdown",
   "metadata": {},
   "source": [
    "# Poetry:\n",
    "\n",
    "Pip and poetry should show the same things by virtue of poetry environments just being pipenvs under the hood:"
   ]
  },
  {
   "cell_type": "code",
   "execution_count": 2,
   "metadata": {
    "vscode": {
     "languageId": "shellscript"
    }
   },
   "outputs": [
    {
     "name": "stdout",
     "output_type": "stream",
     "text": [
      "\u001b[36mcache-dir\u001b[39m = \u001b[39;1m\"/home/vscode/.cache/pypoetry\"\u001b[39;22m  # /home/vscode/poetry-cache\n",
      "\u001b[36mexperimental.system-git-client\u001b[39m = \u001b[39;1mfalse\u001b[39;22m\n",
      "\u001b[36minstaller.max-workers\u001b[39m = \u001b[39;1mnull\u001b[39;22m\n",
      "\u001b[36minstaller.modern-installation\u001b[39m = \u001b[39;1mtrue\u001b[39;22m\n",
      "\u001b[36minstaller.no-binary\u001b[39m = \u001b[39;1mnull\u001b[39;22m\n",
      "\u001b[36minstaller.parallel\u001b[39m = \u001b[39;1mtrue\u001b[39;22m\n",
      "\u001b[36mvirtualenvs.create\u001b[39m = \u001b[39;1mtrue\u001b[39;22m\n",
      "\u001b[36mvirtualenvs.in-project\u001b[39m = \u001b[39;1mnull\u001b[39;22m\n",
      "\u001b[36mvirtualenvs.options.always-copy\u001b[39m = \u001b[39;1mfalse\u001b[39;22m\n",
      "\u001b[36mvirtualenvs.options.no-pip\u001b[39m = \u001b[39;1mfalse\u001b[39;22m\n",
      "\u001b[36mvirtualenvs.options.no-setuptools\u001b[39m = \u001b[39;1mfalse\u001b[39;22m\n",
      "\u001b[36mvirtualenvs.options.system-site-packages\u001b[39m = \u001b[39;1mfalse\u001b[39;22m\n",
      "\u001b[36mvirtualenvs.path\u001b[39m = \u001b[39;1m\"{cache-dir}/virtualenvs\"\u001b[39;22m  # /home/vscode/poetry-cache/virtualenvs\n",
      "\u001b[36mvirtualenvs.prefer-active-python\u001b[39m = \u001b[39;1mfalse\u001b[39;22m\n",
      "\u001b[36mvirtualenvs.prompt\u001b[39m = \u001b[39;1m\"{project_name}-py{python_version}\"\u001b[39;22m\n"
     ]
    }
   ],
   "source": [
    "!poetry config --list"
   ]
  },
  {
   "cell_type": "code",
   "execution_count": 3,
   "metadata": {
    "vscode": {
     "languageId": "shellscript"
    }
   },
   "outputs": [
    {
     "name": "stdout",
     "output_type": "stream",
     "text": [
      "\u001b[34mmanim_testing-LMl0r2r8-py3.11 (Activated)\u001b[39m\n"
     ]
    }
   ],
   "source": [
    "!poetry env list"
   ]
  },
  {
   "cell_type": "code",
   "execution_count": 4,
   "metadata": {
    "vscode": {
     "languageId": "shellscript"
    }
   },
   "outputs": [
    {
     "name": "stdout",
     "output_type": "stream",
     "text": [
      "\u001b[36manyio                    \u001b[39m \u001b[39;1m4.0.0         \u001b[39;22m High level compatibility layer for...\n",
      "\u001b[36margon2-cffi              \u001b[39m \u001b[39;1m23.1.0        \u001b[39;22m Argon2 for Python\n",
      "\u001b[36margon2-cffi-bindings     \u001b[39m \u001b[39;1m21.2.0        \u001b[39;22m Low-level CFFI bindings for Argon2\n",
      "\u001b[36marrow                    \u001b[39m \u001b[39;1m1.3.0         \u001b[39;22m Better dates & times for Python\n",
      "\u001b[36masttokens                \u001b[39m \u001b[39;1m2.4.1         \u001b[39;22m Annotate AST trees with source cod...\n",
      "\u001b[36masync-lru                \u001b[39m \u001b[39;1m2.0.4         \u001b[39;22m Simple LRU cache for asyncio\n",
      "\u001b[36mattrs                    \u001b[39m \u001b[39;1m23.1.0        \u001b[39;22m Classes Without Boilerplate\n",
      "\u001b[36mbabel                    \u001b[39m \u001b[39;1m2.13.1        \u001b[39;22m Internationalization utilities\n",
      "\u001b[36mbackcall                 \u001b[39m \u001b[39;1m0.2.0         \u001b[39;22m Specifications for callback functi...\n",
      "\u001b[36mbeautifulsoup4           \u001b[39m \u001b[39;1m4.12.2        \u001b[39;22m Screen-scraping library\n",
      "\u001b[36mbleach                   \u001b[39m \u001b[39;1m6.1.0         \u001b[39;22m An easy safelist-based HTML-saniti...\n",
      "\u001b[36mcertifi                  \u001b[39m \u001b[39;1m2023.7.22     \u001b[39;22m Python package for providing Mozil...\n",
      "\u001b[36mcffi                     \u001b[39m \u001b[39;1m1.16.0        \u001b[39;22m Foreign Function Interface for Pyt...\n",
      "\u001b[36mcharset-normalizer       \u001b[39m \u001b[39;1m3.3.1         \u001b[39;22m The Real First Universal Charset D...\n",
      "\u001b[36mclick                    \u001b[39m \u001b[39;1m8.1.7         \u001b[39;22m Composable command line interface ...\n",
      "\u001b[36mclick-default-group      \u001b[39m \u001b[39;1m1.2.4         \u001b[39;22m click_default_group\n",
      "\u001b[36mcloup                    \u001b[39m \u001b[39;1m0.13.1        \u001b[39;22m Adds features to Click: option gro...\n",
      "\u001b[36mcomm                     \u001b[39m \u001b[39;1m0.1.4         \u001b[39;22m Jupyter Python Comm implementation...\n",
      "\u001b[36mdebugpy                  \u001b[39m \u001b[39;1m1.8.0         \u001b[39;22m An implementation of the Debug Ada...\n",
      "\u001b[36mdecorator                \u001b[39m \u001b[39;1m5.1.1         \u001b[39;22m Decorators for Humans\n",
      "\u001b[36mdefusedxml               \u001b[39m \u001b[39;1m0.7.1         \u001b[39;22m XML bomb protection for Python std...\n",
      "\u001b[36mexecuting                \u001b[39m \u001b[39;1m2.0.0         \u001b[39;22m Get the currently executing AST no...\n",
      "\u001b[36mfastjsonschema           \u001b[39m \u001b[39;1m2.18.1        \u001b[39;22m Fastest Python implementation of J...\n",
      "\u001b[36mfqdn                     \u001b[39m \u001b[39;1m1.5.1         \u001b[39;22m Validates fully-qualified domain n...\n",
      "\u001b[36mglcontext                \u001b[39m \u001b[39;1m2.5.0         \u001b[39;22m Portable OpenGL Context\n",
      "\u001b[36midna                     \u001b[39m \u001b[39;1m3.4           \u001b[39;22m Internationalized Domain Names in ...\n",
      "\u001b[36mimportlib-metadata       \u001b[39m \u001b[39;1m6.8.0         \u001b[39;22m Read metadata from Python packages\n",
      "\u001b[36mipykernel                \u001b[39m \u001b[39;1m6.26.0        \u001b[39;22m IPython Kernel for Jupyter\n",
      "\u001b[36mipython                  \u001b[39m \u001b[39;1m8.16.1        \u001b[39;22m IPython: Productive Interactive Co...\n",
      "\u001b[36misoduration              \u001b[39m \u001b[39;1m20.11.0       \u001b[39;22m Operations with ISO 8601 durations\n",
      "\u001b[36misosurfaces              \u001b[39m \u001b[39;1m0.1.0         \u001b[39;22m Construct isolines/isosurfaces ove...\n",
      "\u001b[36mjedi                     \u001b[39m \u001b[39;1m0.19.1        \u001b[39;22m An autocompletion tool for Python ...\n",
      "\u001b[36mjinja2                   \u001b[39m \u001b[39;1m3.1.2         \u001b[39;22m A very fast and expressive templat...\n",
      "\u001b[36mjson5                    \u001b[39m \u001b[39;1m0.9.14        \u001b[39;22m A Python implementation of the JSO...\n",
      "\u001b[36mjsonpointer              \u001b[39m \u001b[39;1m2.4           \u001b[39;22m Identify specific nodes in a JSON ...\n",
      "\u001b[36mjsonschema               \u001b[39m \u001b[39;1m4.19.1        \u001b[39;22m An implementation of JSON Schema v...\n",
      "\u001b[36mjsonschema-specifications\u001b[39m \u001b[39;1m2023.7.1      \u001b[39;22m The JSON Schema meta-schemas and v...\n",
      "\u001b[36mjupyter-client           \u001b[39m \u001b[39;1m8.5.0         \u001b[39;22m Jupyter protocol implementation an...\n",
      "\u001b[36mjupyter-core             \u001b[39m \u001b[39;1m5.4.0         \u001b[39;22m Jupyter core package. A base packa...\n",
      "\u001b[36mjupyter-events           \u001b[39m \u001b[39;1m0.8.0         \u001b[39;22m Jupyter Event System library\n",
      "\u001b[36mjupyter-lsp              \u001b[39m \u001b[39;1m2.2.0         \u001b[39;22m Multi-Language Server WebSocket pr...\n",
      "\u001b[36mjupyter-server           \u001b[39m \u001b[39;1m2.9.1         \u001b[39;22m The backend—i.e. core services, AP...\n",
      "\u001b[36mjupyter-server-terminals \u001b[39m \u001b[39;1m0.4.4         \u001b[39;22m A Jupyter Server Extension Providi...\n",
      "\u001b[36mjupyterlab               \u001b[39m \u001b[39;1m4.0.7         \u001b[39;22m JupyterLab computational environment\n",
      "\u001b[36mjupyterlab-pygments      \u001b[39m \u001b[39;1m0.2.2         \u001b[39;22m Pygments theme using JupyterLab CS...\n",
      "\u001b[36mjupyterlab-server        \u001b[39m \u001b[39;1m2.25.0        \u001b[39;22m A set of server components for Jup...\n",
      "\u001b[36mmanim                    \u001b[39m \u001b[39;1m0.17.3 b7a8a2d\u001b[39;22m Animation engine for explanatory m...\n",
      "\u001b[36mmanim-revealjs           \u001b[39m \u001b[39;1m1.0.2         \u001b[39;22m Generate Manim animations for pres...\n",
      "\u001b[36mmanimpango               \u001b[39m \u001b[39;1m0.5.0         \u001b[39;22m Bindings for Pango for using with ...\n",
      "\u001b[36mmapbox-earcut            \u001b[39m \u001b[39;1m1.0.1         \u001b[39;22m Python bindings for the mapbox ear...\n",
      "\u001b[36mmarkdown-it-py           \u001b[39m \u001b[39;1m3.0.0         \u001b[39;22m Python port of markdown-it. Markdo...\n",
      "\u001b[36mmarkupsafe               \u001b[39m \u001b[39;1m2.1.3         \u001b[39;22m Safely add untrusted strings to HT...\n",
      "\u001b[36mmatplotlib-inline        \u001b[39m \u001b[39;1m0.1.6         \u001b[39;22m Inline Matplotlib backend for Jupyter\n",
      "\u001b[36mmdurl                    \u001b[39m \u001b[39;1m0.1.2         \u001b[39;22m Markdown URL utilities\n",
      "\u001b[36mmistune                  \u001b[39m \u001b[39;1m3.0.2         \u001b[39;22m A sane and fast Markdown parser wi...\n",
      "\u001b[36mmoderngl                 \u001b[39m \u001b[39;1m5.8.2         \u001b[39;22m ModernGL: High performance renderi...\n",
      "\u001b[36mmoderngl-window          \u001b[39m \u001b[39;1m2.4.4         \u001b[39;22m A cross platform helper library fo...\n",
      "\u001b[36mmultipledispatch         \u001b[39m \u001b[39;1m1.0.0         \u001b[39;22m Multiple dispatch\n",
      "\u001b[36mnbclient                 \u001b[39m \u001b[39;1m0.8.0         \u001b[39;22m A client library for executing not...\n",
      "\u001b[36mnbconvert                \u001b[39m \u001b[39;1m7.9.2         \u001b[39;22m Converting Jupyter Notebooks\n",
      "\u001b[36mnbformat                 \u001b[39m \u001b[39;1m5.9.2         \u001b[39;22m The Jupyter Notebook format\n",
      "\u001b[36mnest-asyncio             \u001b[39m \u001b[39;1m1.5.8         \u001b[39;22m Patch asyncio to allow nested even...\n",
      "\u001b[36mnetworkx                 \u001b[39m \u001b[39;1m2.8.8         \u001b[39;22m Python package for creating and ma...\n",
      "\u001b[36mnotebook-shim            \u001b[39m \u001b[39;1m0.2.3         \u001b[39;22m A shim layer for notebook traits a...\n",
      "\u001b[36mnumpy                    \u001b[39m \u001b[39;1m1.26.1        \u001b[39;22m Fundamental package for array comp...\n",
      "\u001b[36moverrides                \u001b[39m \u001b[39;1m7.4.0         \u001b[39;22m A decorator to automatically detec...\n",
      "\u001b[36mpackaging                \u001b[39m \u001b[39;1m23.2          \u001b[39;22m Core utilities for Python packages\n",
      "\u001b[36mpandocfilters            \u001b[39m \u001b[39;1m1.5.0         \u001b[39;22m Utilities for writing pandoc filte...\n",
      "\u001b[36mparso                    \u001b[39m \u001b[39;1m0.8.3         \u001b[39;22m A Python Parser\n",
      "\u001b[36mpexpect                  \u001b[39m \u001b[39;1m4.8.0         \u001b[39;22m Pexpect allows easy control of int...\n",
      "\u001b[36mpickleshare              \u001b[39m \u001b[39;1m0.7.5         \u001b[39;22m Tiny 'shelve'-like database with c...\n",
      "\u001b[36mpillow                   \u001b[39m \u001b[39;1m9.5.0         \u001b[39;22m Python Imaging Library (Fork)\n",
      "\u001b[36mplatformdirs             \u001b[39m \u001b[39;1m3.11.0        \u001b[39;22m A small Python package for determi...\n",
      "\u001b[36mprometheus-client        \u001b[39m \u001b[39;1m0.17.1        \u001b[39;22m Python client for the Prometheus m...\n",
      "\u001b[36mprompt-toolkit           \u001b[39m \u001b[39;1m3.0.39        \u001b[39;22m Library for building powerful inte...\n",
      "\u001b[36mpsutil                   \u001b[39m \u001b[39;1m5.9.6         \u001b[39;22m Cross-platform lib for process and...\n",
      "\u001b[36mptyprocess               \u001b[39m \u001b[39;1m0.7.0         \u001b[39;22m Run a subprocess in a pseudo terminal\n",
      "\u001b[36mpure-eval                \u001b[39m \u001b[39;1m0.2.2         \u001b[39;22m Safely evaluate AST nodes without ...\n",
      "\u001b[36mpycairo                  \u001b[39m \u001b[39;1m1.25.1        \u001b[39;22m Python interface for cairo\n",
      "\u001b[36mpycparser                \u001b[39m \u001b[39;1m2.21          \u001b[39;22m C parser in Python\n",
      "\u001b[36mpydub                    \u001b[39m \u001b[39;1m0.25.1        \u001b[39;22m Manipulate audio with an simple an...\n",
      "\u001b[36mpyglet                   \u001b[39m \u001b[39;1m2.0.9         \u001b[39;22m Cross-platform windowing and multi...\n",
      "\u001b[36mpygments                 \u001b[39m \u001b[39;1m2.16.1        \u001b[39;22m Pygments is a syntax highlighting ...\n",
      "\u001b[36mpyrr                     \u001b[39m \u001b[39;1m0.10.3        \u001b[39;22m 3D mathematical functions using NumPy\n",
      "\u001b[36mpython-dateutil          \u001b[39m \u001b[39;1m2.8.2         \u001b[39;22m Extensions to the standard Python ...\n",
      "\u001b[36mpython-json-logger       \u001b[39m \u001b[39;1m2.0.7         \u001b[39;22m A python library adding a json log...\n",
      "\u001b[36mpyyaml                   \u001b[39m \u001b[39;1m6.0.1         \u001b[39;22m YAML parser and emitter for Python\n",
      "\u001b[36mpyzmq                    \u001b[39m \u001b[39;1m25.1.1        \u001b[39;22m Python bindings for 0MQ\n",
      "\u001b[36mreferencing              \u001b[39m \u001b[39;1m0.30.2        \u001b[39;22m JSON Referencing + Python\n",
      "\u001b[36mrequests                 \u001b[39m \u001b[39;1m2.31.0        \u001b[39;22m Python HTTP for Humans.\n",
      "\u001b[36mrfc3339-validator        \u001b[39m \u001b[39;1m0.1.4         \u001b[39;22m A pure python RFC3339 validator\n",
      "\u001b[36mrfc3986-validator        \u001b[39m \u001b[39;1m0.1.1         \u001b[39;22m Pure python rfc3986 validator\n",
      "\u001b[36mrich                     \u001b[39m \u001b[39;1m13.6.0        \u001b[39;22m Render rich text, tables, progress...\n",
      "\u001b[36mrpds-py                  \u001b[39m \u001b[39;1m0.10.6        \u001b[39;22m Python bindings to Rust's persiste...\n",
      "\u001b[36mscipy                    \u001b[39m \u001b[39;1m1.11.3        \u001b[39;22m Fundamental algorithms for scienti...\n",
      "\u001b[36mscreeninfo               \u001b[39m \u001b[39;1m0.8.1         \u001b[39;22m Fetch location and size of physica...\n",
      "\u001b[36msend2trash               \u001b[39m \u001b[39;1m1.8.2         \u001b[39;22m Send file to trash natively under ...\n",
      "\u001b[36msetuptools               \u001b[39m \u001b[39;1m68.2.2        \u001b[39;22m Easily download, build, install, u...\n",
      "\u001b[36msix                      \u001b[39m \u001b[39;1m1.16.0        \u001b[39;22m Python 2 and 3 compatibility utili...\n",
      "\u001b[36mskia-pathops             \u001b[39m \u001b[39;1m0.7.4         \u001b[39;22m Python access to operations on pat...\n",
      "\u001b[36msniffio                  \u001b[39m \u001b[39;1m1.3.0         \u001b[39;22m Sniff out which async library your...\n",
      "\u001b[36msoupsieve                \u001b[39m \u001b[39;1m2.5           \u001b[39;22m A modern CSS selector implementati...\n",
      "\u001b[36msrt                      \u001b[39m \u001b[39;1m3.5.3         \u001b[39;22m A tiny library for parsing, modify...\n",
      "\u001b[36mstack-data               \u001b[39m \u001b[39;1m0.6.3         \u001b[39;22m Extract data from python stack fra...\n",
      "\u001b[36msvgelements              \u001b[39m \u001b[39;1m1.9.6         \u001b[39;22m Svg Elements Parsing\n",
      "\u001b[36mterminado                \u001b[39m \u001b[39;1m0.17.1        \u001b[39;22m Tornado websocket backend for the ...\n",
      "\u001b[36mtinycss2                 \u001b[39m \u001b[39;1m1.2.1         \u001b[39;22m A tiny CSS parser\n",
      "\u001b[36mtornado                  \u001b[39m \u001b[39;1m6.3.3         \u001b[39;22m Tornado is a Python web framework ...\n",
      "\u001b[36mtqdm                     \u001b[39m \u001b[39;1m4.66.1        \u001b[39;22m Fast, Extensible Progress Meter\n",
      "\u001b[36mtraitlets                \u001b[39m \u001b[39;1m5.12.0        \u001b[39;22m Traitlets Python configuration system\n",
      "\u001b[36mtypes-python-dateutil    \u001b[39m \u001b[39;1m2.8.19.14     \u001b[39;22m Typing stubs for python-dateutil\n",
      "\u001b[36mtyping-extensions        \u001b[39m \u001b[39;1m4.8.0         \u001b[39;22m Backported and Experimental Type H...\n",
      "\u001b[36muri-template             \u001b[39m \u001b[39;1m1.3.0         \u001b[39;22m RFC 6570 URI Template Processor\n",
      "\u001b[36murllib3                  \u001b[39m \u001b[39;1m2.0.7         \u001b[39;22m HTTP library with thread-safe conn...\n",
      "\u001b[36mwatchdog                 \u001b[39m \u001b[39;1m2.3.1         \u001b[39;22m Filesystem events monitoring\n",
      "\u001b[36mwatermark                \u001b[39m \u001b[39;1m2.4.3         \u001b[39;22m IPython magic function to print da...\n",
      "\u001b[36mwcwidth                  \u001b[39m \u001b[39;1m0.2.8         \u001b[39;22m Measures the displayed width of un...\n",
      "\u001b[36mwebcolors                \u001b[39m \u001b[39;1m1.13          \u001b[39;22m A library for working with the col...\n",
      "\u001b[36mwebencodings             \u001b[39m \u001b[39;1m0.5.1         \u001b[39;22m Character encoding aliases for leg...\n",
      "\u001b[36mwebsocket-client         \u001b[39m \u001b[39;1m1.6.4         \u001b[39;22m WebSocket client for Python with l...\n",
      "\u001b[36mzipp                     \u001b[39m \u001b[39;1m3.17.0        \u001b[39;22m Backport of pathlib-compatible obj...\n"
     ]
    }
   ],
   "source": [
    "!poetry show"
   ]
  },
  {
   "cell_type": "markdown",
   "metadata": {},
   "source": [
    "I didn't do this programmatically, but it seems clear that poetry and pip are on the same page, but poetry gives more detailed information."
   ]
  },
  {
   "cell_type": "markdown",
   "metadata": {},
   "source": [
    "# Container specifics"
   ]
  },
  {
   "cell_type": "code",
   "execution_count": 5,
   "metadata": {
    "vscode": {
     "languageId": "shellscript"
    }
   },
   "outputs": [
    {
     "name": "stdout",
     "output_type": "stream",
     "text": [
      "processor\t: 0\n",
      "vendor_id\t: GenuineIntel\n",
      "cpu family\t: 6\n",
      "model\t\t: 94\n",
      "model name\t: Intel(R) Core(TM) i7-6700HQ CPU @ 2.60GHz\n",
      "stepping\t: 3\n",
      "microcode\t: 0xffffffff\n",
      "cpu MHz\t\t: 2592.000\n",
      "cache size\t: 6144 KB\n",
      "physical id\t: 0\n",
      "siblings\t: 8\n",
      "core id\t\t: 0\n",
      "cpu cores\t: 4\n",
      "apicid\t\t: 0\n",
      "initial apicid\t: 0\n",
      "fpu\t\t: yes\n",
      "fpu_exception\t: yes\n",
      "cpuid level\t: 21\n",
      "wp\t\t: yes\n",
      "flags\t\t: fpu vme de pse tsc msr pae mce cx8 apic sep mtrr pge mca cmov pat pse36 clflush mmx fxsr sse sse2 ss ht syscall nx pdpe1gb rdtscp lm constant_tsc arch_perfmon rep_good nopl xtopology cpuid pni pclmulqdq ssse3 fma cx16 pdcm pcid sse4_1 sse4_2 movbe popcnt aes xsave avx f16c rdrand hypervisor lahf_lm abm 3dnowprefetch invpcid_single pti ssbd ibrs ibpb stibp fsgsbase bmi1 hle avx2 smep bmi2 erms invpcid rtm rdseed adx smap clflushopt xsaveopt xsavec xgetbv1 xsaves flush_l1d arch_capabilities\n",
      "bugs\t\t: cpu_meltdown spectre_v1 spectre_v2 spec_store_bypass l1tf mds swapgs taa itlb_multihit srbds mmio_stale_data retbleed\n",
      "bogomips\t: 5184.00\n",
      "clflush size\t: 64\n",
      "cache_alignment\t: 64\n",
      "address sizes\t: 39 bits physical, 48 bits virtual\n",
      "power management:\n",
      "\n",
      "processor\t: 1\n",
      "vendor_id\t: GenuineIntel\n",
      "cpu family\t: 6\n",
      "model\t\t: 94\n",
      "model name\t: Intel(R) Core(TM) i7-6700HQ CPU @ 2.60GHz\n",
      "stepping\t: 3\n",
      "microcode\t: 0xffffffff\n",
      "cpu MHz\t\t: 2592.000\n",
      "cache size\t: 6144 KB\n",
      "physical id\t: 0\n",
      "siblings\t: 8\n",
      "core id\t\t: 0\n",
      "cpu cores\t: 4\n",
      "apicid\t\t: 1\n",
      "initial apicid\t: 1\n",
      "fpu\t\t: yes\n",
      "fpu_exception\t: yes\n",
      "cpuid level\t: 21\n",
      "wp\t\t: yes\n",
      "flags\t\t: fpu vme de pse tsc msr pae mce cx8 apic sep mtrr pge mca cmov pat pse36 clflush mmx fxsr sse sse2 ss ht syscall nx pdpe1gb rdtscp lm constant_tsc arch_perfmon rep_good nopl xtopology cpuid pni pclmulqdq ssse3 fma cx16 pdcm pcid sse4_1 sse4_2 movbe popcnt aes xsave avx f16c rdrand hypervisor lahf_lm abm 3dnowprefetch invpcid_single pti ssbd ibrs ibpb stibp fsgsbase bmi1 hle avx2 smep bmi2 erms invpcid rtm rdseed adx smap clflushopt xsaveopt xsavec xgetbv1 xsaves flush_l1d arch_capabilities\n",
      "bugs\t\t: cpu_meltdown spectre_v1 spectre_v2 spec_store_bypass l1tf mds swapgs taa itlb_multihit srbds mmio_stale_data retbleed\n",
      "bogomips\t: 5184.00\n",
      "clflush size\t: 64\n",
      "cache_alignment\t: 64\n",
      "address sizes\t: 39 bits physical, 48 bits virtual\n",
      "power management:\n",
      "\n",
      "processor\t: 2\n",
      "vendor_id\t: GenuineIntel\n",
      "cpu family\t: 6\n",
      "model\t\t: 94\n",
      "model name\t: Intel(R) Core(TM) i7-6700HQ CPU @ 2.60GHz\n",
      "stepping\t: 3\n",
      "microcode\t: 0xffffffff\n",
      "cpu MHz\t\t: 2592.000\n",
      "cache size\t: 6144 KB\n",
      "physical id\t: 0\n",
      "siblings\t: 8\n",
      "core id\t\t: 1\n",
      "cpu cores\t: 4\n",
      "apicid\t\t: 2\n",
      "initial apicid\t: 2\n",
      "fpu\t\t: yes\n",
      "fpu_exception\t: yes\n",
      "cpuid level\t: 21\n",
      "wp\t\t: yes\n",
      "flags\t\t: fpu vme de pse tsc msr pae mce cx8 apic sep mtrr pge mca cmov pat pse36 clflush mmx fxsr sse sse2 ss ht syscall nx pdpe1gb rdtscp lm constant_tsc arch_perfmon rep_good nopl xtopology cpuid pni pclmulqdq ssse3 fma cx16 pdcm pcid sse4_1 sse4_2 movbe popcnt aes xsave avx f16c rdrand hypervisor lahf_lm abm 3dnowprefetch invpcid_single pti ssbd ibrs ibpb stibp fsgsbase bmi1 hle avx2 smep bmi2 erms invpcid rtm rdseed adx smap clflushopt xsaveopt xsavec xgetbv1 xsaves flush_l1d arch_capabilities\n",
      "bugs\t\t: cpu_meltdown spectre_v1 spectre_v2 spec_store_bypass l1tf mds swapgs taa itlb_multihit srbds mmio_stale_data retbleed\n",
      "bogomips\t: 5184.00\n",
      "clflush size\t: 64\n",
      "cache_alignment\t: 64\n",
      "address sizes\t: 39 bits physical, 48 bits virtual\n",
      "power management:\n",
      "\n",
      "processor\t: 3\n",
      "vendor_id\t: GenuineIntel\n",
      "cpu family\t: 6\n",
      "model\t\t: 94\n",
      "model name\t: Intel(R) Core(TM) i7-6700HQ CPU @ 2.60GHz\n",
      "stepping\t: 3\n",
      "microcode\t: 0xffffffff\n",
      "cpu MHz\t\t: 2592.000\n",
      "cache size\t: 6144 KB\n",
      "physical id\t: 0\n",
      "siblings\t: 8\n",
      "core id\t\t: 1\n",
      "cpu cores\t: 4\n",
      "apicid\t\t: 3\n",
      "initial apicid\t: 3\n",
      "fpu\t\t: yes\n",
      "fpu_exception\t: yes\n",
      "cpuid level\t: 21\n",
      "wp\t\t: yes\n",
      "flags\t\t: fpu vme de pse tsc msr pae mce cx8 apic sep mtrr pge mca cmov pat pse36 clflush mmx fxsr sse sse2 ss ht syscall nx pdpe1gb rdtscp lm constant_tsc arch_perfmon rep_good nopl xtopology cpuid pni pclmulqdq ssse3 fma cx16 pdcm pcid sse4_1 sse4_2 movbe popcnt aes xsave avx f16c rdrand hypervisor lahf_lm abm 3dnowprefetch invpcid_single pti ssbd ibrs ibpb stibp fsgsbase bmi1 hle avx2 smep bmi2 erms invpcid rtm rdseed adx smap clflushopt xsaveopt xsavec xgetbv1 xsaves flush_l1d arch_capabilities\n",
      "bugs\t\t: cpu_meltdown spectre_v1 spectre_v2 spec_store_bypass l1tf mds swapgs taa itlb_multihit srbds mmio_stale_data retbleed\n",
      "bogomips\t: 5184.00\n",
      "clflush size\t: 64\n",
      "cache_alignment\t: 64\n",
      "address sizes\t: 39 bits physical, 48 bits virtual\n",
      "power management:\n",
      "\n",
      "processor\t: 4\n",
      "vendor_id\t: GenuineIntel\n",
      "cpu family\t: 6\n",
      "model\t\t: 94\n",
      "model name\t: Intel(R) Core(TM) i7-6700HQ CPU @ 2.60GHz\n",
      "stepping\t: 3\n",
      "microcode\t: 0xffffffff\n",
      "cpu MHz\t\t: 2592.000\n",
      "cache size\t: 6144 KB\n",
      "physical id\t: 0\n",
      "siblings\t: 8\n",
      "core id\t\t: 2\n",
      "cpu cores\t: 4\n",
      "apicid\t\t: 4\n",
      "initial apicid\t: 4\n",
      "fpu\t\t: yes\n",
      "fpu_exception\t: yes\n",
      "cpuid level\t: 21\n",
      "wp\t\t: yes\n",
      "flags\t\t: fpu vme de pse tsc msr pae mce cx8 apic sep mtrr pge mca cmov pat pse36 clflush mmx fxsr sse sse2 ss ht syscall nx pdpe1gb rdtscp lm constant_tsc arch_perfmon rep_good nopl xtopology cpuid pni pclmulqdq ssse3 fma cx16 pdcm pcid sse4_1 sse4_2 movbe popcnt aes xsave avx f16c rdrand hypervisor lahf_lm abm 3dnowprefetch invpcid_single pti ssbd ibrs ibpb stibp fsgsbase bmi1 hle avx2 smep bmi2 erms invpcid rtm rdseed adx smap clflushopt xsaveopt xsavec xgetbv1 xsaves flush_l1d arch_capabilities\n",
      "bugs\t\t: cpu_meltdown spectre_v1 spectre_v2 spec_store_bypass l1tf mds swapgs taa itlb_multihit srbds mmio_stale_data retbleed\n",
      "bogomips\t: 5184.00\n",
      "clflush size\t: 64\n",
      "cache_alignment\t: 64\n",
      "address sizes\t: 39 bits physical, 48 bits virtual\n",
      "power management:\n",
      "\n",
      "processor\t: 5\n",
      "vendor_id\t: GenuineIntel\n",
      "cpu family\t: 6\n",
      "model\t\t: 94\n",
      "model name\t: Intel(R) Core(TM) i7-6700HQ CPU @ 2.60GHz\n",
      "stepping\t: 3\n",
      "microcode\t: 0xffffffff\n",
      "cpu MHz\t\t: 2592.000\n",
      "cache size\t: 6144 KB\n",
      "physical id\t: 0\n",
      "siblings\t: 8\n",
      "core id\t\t: 2\n",
      "cpu cores\t: 4\n",
      "apicid\t\t: 5\n",
      "initial apicid\t: 5\n",
      "fpu\t\t: yes\n",
      "fpu_exception\t: yes\n",
      "cpuid level\t: 21\n",
      "wp\t\t: yes\n",
      "flags\t\t: fpu vme de pse tsc msr pae mce cx8 apic sep mtrr pge mca cmov pat pse36 clflush mmx fxsr sse sse2 ss ht syscall nx pdpe1gb rdtscp lm constant_tsc arch_perfmon rep_good nopl xtopology cpuid pni pclmulqdq ssse3 fma cx16 pdcm pcid sse4_1 sse4_2 movbe popcnt aes xsave avx f16c rdrand hypervisor lahf_lm abm 3dnowprefetch invpcid_single pti ssbd ibrs ibpb stibp fsgsbase bmi1 hle avx2 smep bmi2 erms invpcid rtm rdseed adx smap clflushopt xsaveopt xsavec xgetbv1 xsaves flush_l1d arch_capabilities\n",
      "bugs\t\t: cpu_meltdown spectre_v1 spectre_v2 spec_store_bypass l1tf mds swapgs taa itlb_multihit srbds mmio_stale_data retbleed\n",
      "bogomips\t: 5184.00\n",
      "clflush size\t: 64\n",
      "cache_alignment\t: 64\n",
      "address sizes\t: 39 bits physical, 48 bits virtual\n",
      "power management:\n",
      "\n",
      "processor\t: 6\n",
      "vendor_id\t: GenuineIntel\n",
      "cpu family\t: 6\n",
      "model\t\t: 94\n",
      "model name\t: Intel(R) Core(TM) i7-6700HQ CPU @ 2.60GHz\n",
      "stepping\t: 3\n",
      "microcode\t: 0xffffffff\n",
      "cpu MHz\t\t: 2592.000\n",
      "cache size\t: 6144 KB\n",
      "physical id\t: 0\n",
      "siblings\t: 8\n",
      "core id\t\t: 3\n",
      "cpu cores\t: 4\n",
      "apicid\t\t: 6\n",
      "initial apicid\t: 6\n",
      "fpu\t\t: yes\n",
      "fpu_exception\t: yes\n",
      "cpuid level\t: 21\n",
      "wp\t\t: yes\n",
      "flags\t\t: fpu vme de pse tsc msr pae mce cx8 apic sep mtrr pge mca cmov pat pse36 clflush mmx fxsr sse sse2 ss ht syscall nx pdpe1gb rdtscp lm constant_tsc arch_perfmon rep_good nopl xtopology cpuid pni pclmulqdq ssse3 fma cx16 pdcm pcid sse4_1 sse4_2 movbe popcnt aes xsave avx f16c rdrand hypervisor lahf_lm abm 3dnowprefetch invpcid_single pti ssbd ibrs ibpb stibp fsgsbase bmi1 hle avx2 smep bmi2 erms invpcid rtm rdseed adx smap clflushopt xsaveopt xsavec xgetbv1 xsaves flush_l1d arch_capabilities\n",
      "bugs\t\t: cpu_meltdown spectre_v1 spectre_v2 spec_store_bypass l1tf mds swapgs taa itlb_multihit srbds mmio_stale_data retbleed\n",
      "bogomips\t: 5184.00\n",
      "clflush size\t: 64\n",
      "cache_alignment\t: 64\n",
      "address sizes\t: 39 bits physical, 48 bits virtual\n",
      "power management:\n",
      "\n",
      "processor\t: 7\n",
      "vendor_id\t: GenuineIntel\n",
      "cpu family\t: 6\n",
      "model\t\t: 94\n",
      "model name\t: Intel(R) Core(TM) i7-6700HQ CPU @ 2.60GHz\n",
      "stepping\t: 3\n",
      "microcode\t: 0xffffffff\n",
      "cpu MHz\t\t: 2592.000\n",
      "cache size\t: 6144 KB\n",
      "physical id\t: 0\n",
      "siblings\t: 8\n",
      "core id\t\t: 3\n",
      "cpu cores\t: 4\n",
      "apicid\t\t: 7\n",
      "initial apicid\t: 7\n",
      "fpu\t\t: yes\n",
      "fpu_exception\t: yes\n",
      "cpuid level\t: 21\n",
      "wp\t\t: yes\n",
      "flags\t\t: fpu vme de pse tsc msr pae mce cx8 apic sep mtrr pge mca cmov pat pse36 clflush mmx fxsr sse sse2 ss ht syscall nx pdpe1gb rdtscp lm constant_tsc arch_perfmon rep_good nopl xtopology cpuid pni pclmulqdq ssse3 fma cx16 pdcm pcid sse4_1 sse4_2 movbe popcnt aes xsave avx f16c rdrand hypervisor lahf_lm abm 3dnowprefetch invpcid_single pti ssbd ibrs ibpb stibp fsgsbase bmi1 hle avx2 smep bmi2 erms invpcid rtm rdseed adx smap clflushopt xsaveopt xsavec xgetbv1 xsaves flush_l1d arch_capabilities\n",
      "bugs\t\t: cpu_meltdown spectre_v1 spectre_v2 spec_store_bypass l1tf mds swapgs taa itlb_multihit srbds mmio_stale_data retbleed\n",
      "bogomips\t: 5184.00\n",
      "clflush size\t: 64\n",
      "cache_alignment\t: 64\n",
      "address sizes\t: 39 bits physical, 48 bits virtual\n",
      "power management:\n",
      "\n"
     ]
    }
   ],
   "source": [
    "!cat /proc/cpuinfo"
   ]
  },
  {
   "cell_type": "code",
   "execution_count": 6,
   "metadata": {
    "vscode": {
     "languageId": "shellscript"
    }
   },
   "outputs": [
    {
     "name": "stdout",
     "output_type": "stream",
     "text": [
      "PRETTY_NAME=\"Debian GNU/Linux 12 (bookworm)\"\n",
      "NAME=\"Debian GNU/Linux\"\n",
      "VERSION_ID=\"12\"\n",
      "VERSION=\"12 (bookworm)\"\n",
      "VERSION_CODENAME=bookworm\n",
      "ID=debian\n",
      "HOME_URL=\"https://www.debian.org/\"\n",
      "SUPPORT_URL=\"https://www.debian.org/support\"\n",
      "BUG_REPORT_URL=\"https://bugs.debian.org/\"\n"
     ]
    }
   ],
   "source": [
    "!cat /etc/os-release"
   ]
  },
  {
   "cell_type": "markdown",
   "metadata": {},
   "source": [
    "# Watermark\n",
    "\n",
    "This is a helpful tool in summarising Python environment from what might have been missed in previous output.\n",
    "\n",
    "TODO: Use options from watermark..."
   ]
  },
  {
   "cell_type": "code",
   "execution_count": 7,
   "metadata": {},
   "outputs": [],
   "source": [
    "%load_ext watermark"
   ]
  },
  {
   "cell_type": "code",
   "execution_count": 8,
   "metadata": {
    "tags": [
     "watermark"
    ]
   },
   "outputs": [
    {
     "name": "stdout",
     "output_type": "stream",
     "text": [
      "Last updated: 2023-10-29T00:52:07.955468+00:00\n",
      "\n",
      "Python implementation: CPython\n",
      "Python version       : 3.11.6\n",
      "IPython version      : 8.16.1\n",
      "\n",
      "Compiler    : GCC 12.2.0\n",
      "OS          : Linux\n",
      "Release     : 5.15.90.1-microsoft-standard-WSL2\n",
      "Machine     : x86_64\n",
      "Processor   : \n",
      "CPU cores   : 8\n",
      "Architecture: 64bit\n",
      "\n"
     ]
    }
   ],
   "source": [
    "%watermark"
   ]
  },
  {
   "cell_type": "markdown",
   "metadata": {},
   "source": [
    "# Manim\n",
    "\n",
    "Now that manim is installed, let's try and configure a test video for our extension.\n",
    "\n",
    "https://github.com/RickDW/manim-revealjs\n"
   ]
  },
  {
   "cell_type": "code",
   "execution_count": 9,
   "metadata": {},
   "outputs": [
    {
     "data": {
      "text/html": [
       "<pre style=\"white-space:pre;overflow-x:auto;line-height:normal;font-family:Menlo,'DejaVu Sans Mono',consolas,'Courier New',monospace\">Manim Community <span style=\"color: #008000; text-decoration-color: #008000\">v0.17.3</span>\n",
       "\n",
       "</pre>\n"
      ],
      "text/plain": [
       "Manim Community \u001b[32mv0.\u001b[0m\u001b[32m17.3\u001b[0m\n",
       "\n"
      ]
     },
     "metadata": {},
     "output_type": "display_data"
    }
   ],
   "source": [
    "import manim as mn\n",
    "from manim_revealjs import PresentationScene, COMPLETE_LOOP"
   ]
  },
  {
   "cell_type": "code",
   "execution_count": 10,
   "metadata": {},
   "outputs": [
    {
     "name": "stdout",
     "output_type": "stream",
     "text": [
      "Usage: manim [OPTIONS] COMMAND [ARGS]...\n",
      "\n",
      "  Animation engine for explanatory math videos.\n",
      "\n",
      "Options:\n",
      "  --version  Show version and exit.\n",
      "  --help     Show this message and exit.\n",
      "\n",
      "Commands:\n",
      "  cfg          Manages Manim configuration files.\n",
      "  checkhealth  This subcommand checks whether Manim is installed correctly...\n",
      "  init         Create a new project or insert a new scene.\n",
      "  new          (Deprecated) Create a new project or insert a new scene.\n",
      "  plugins      Manages Manim plugins.\n",
      "  render       Render SCENE(S) from the input FILE.\n",
      "\n",
      "See 'manim <command>' to read about a specific subcommand.\n",
      "\n",
      "Note: the subcommand 'manim render' is called if no other subcommand is\n",
      "specified. Run 'manim render --help' if you would like to know what the '-ql' or\n",
      "'-p' flags do, for example.\n",
      "\n",
      "Made with <3 by Manim Community developers.\n"
     ]
    }
   ],
   "source": [
    "%manim --help"
   ]
  },
  {
   "cell_type": "code",
   "execution_count": 11,
   "metadata": {},
   "outputs": [
    {
     "name": "stderr",
     "output_type": "stream",
     "text": [
      "                                                                                         \r"
     ]
    },
    {
     "data": {
      "text/html": [
       "<video src=\"media/jupyter/DemoScene@2023-10-29@00-52-13.mp4\" controls autoplay loop style=\"max-width: 60%;\"  >\n",
       "      Your browser does not support the <code>video</code> element.\n",
       "    </video>"
      ],
      "text/plain": [
       "<IPython.core.display.Video object>"
      ]
     },
     "metadata": {},
     "output_type": "display_data"
    }
   ],
   "source": [
    "%%manim -qm -v WARNING DemoScene\n",
    "\n",
    "mn.config.video_dir= \"./videos\"\n",
    "\n",
    "class DemoScene(PresentationScene):\n",
    "    def construct(self):\n",
    "        # TODO find out why end_fragment has the t parameter\n",
    "        rect = mn.Rectangle(fill_color=mn.BLUE, fill_opacity=1)\n",
    "        self.play(mn.Create(rect))\n",
    "        self.end_fragment()\n",
    "\n",
    "        self.play(rect.animate.shift(mn.UP).rotate(mn.PI / 3))\n",
    "        self.end_fragment(fragment_type=COMPLETE_LOOP)\n",
    "\n",
    "        self.play(rect.animate.shift(3*mn.LEFT))\n",
    "        self.end_fragment()"
   ]
  }
 ],
 "metadata": {
  "kernelspec": {
   "display_name": "MathMagic",
   "language": "python",
   "name": "py311-mathmagic"
  },
  "language_info": {
   "codemirror_mode": {
    "name": "ipython",
    "version": 3
   },
   "file_extension": ".py",
   "mimetype": "text/x-python",
   "name": "python",
   "nbconvert_exporter": "python",
   "pygments_lexer": "ipython3",
   "version": "3.11.6"
  }
 },
 "nbformat": 4,
 "nbformat_minor": 2
}
