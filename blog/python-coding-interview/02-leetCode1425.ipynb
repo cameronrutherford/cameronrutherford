{
 "cells": [
  {
   "cell_type": "markdown",
   "metadata": {},
   "source": [
    "---\n",
    "title: \"Leet Code #1425\"\n",
    "format:\n",
    "    html: default\n",
    "    ipynb: default\n",
    "---"
   ]
  },
  {
   "cell_type": "markdown",
   "metadata": {},
   "source": [
    "# 1425. Constrained Subsequence Sum\n",
    "\n",
    "[Link to Problem](https://leetcode.com/problems/constrained-subsequence-sum/).\n",
    "\n",
    "This is my first:\n",
    "- Time trying to do this with Python\n",
    "\n",
    "Lessons will be learned, and things will get easier"
   ]
  },
  {
   "cell_type": "markdown",
   "metadata": {},
   "source": [
    "# Iteration One\n",
    "\n",
    "## Goals\n",
    "\n",
    "- Working Solution for all edge cases\n",
    "- Nice integration with Jupyter notebook\n",
    "\n",
    "## Notes\n",
    "\n",
    "Runtime and memory still feel abitrary - will try and focus on software engineering and algorithmic principles over runtime and memory until I do a much deeper dive."
   ]
  },
  {
   "cell_type": "code",
   "execution_count": 17,
   "metadata": {},
   "outputs": [],
   "source": [
    "from typing import List\n",
    "import sys\n",
    "from collections import deque\n",
    "\n",
    "class Solution:\n",
    "    def __init__(self):\n",
    "        pass\n",
    "    def constrainedSubsetSum(self, nums: List[int], k: int) -> int:\n",
    "\n",
    "        # Start max at -\\inf\n",
    "        res = -sys.maxsize - 1\n",
    "        q = deque()\n",
    "\n",
    "        for i, num in enumerate(nums):\n",
    "            # (if q) here detects if q is not empty\n",
    "            # Try generate new max with current number\n",
    "            total = num + q[0][1] if q else num\n",
    "            res = max(res, total)\n",
    "\n",
    "            while q and total >= q[-1][1]:\n",
    "                q.pop()\n",
    "\n",
    "            if total > 0:\n",
    "                q.append((i, total))\n",
    "            \n",
    "            if q and q[0][0] == i - k:\n",
    "                q.popleft()\n",
    "\n",
    "\n",
    "        return res"
   ]
  },
  {
   "cell_type": "code",
   "execution_count": 18,
   "metadata": {},
   "outputs": [],
   "source": [
    "# Lets try the solution defined above\n",
    "\n",
    "inputs = [\n",
    "    {\"nums\" : [10,2,-10,5,20], \"k\" : 2, \"output\" : 37},\n",
    "    {\"nums\" : [-1,-2,-3], \"k\" : 1, \"output\" : -1},\n",
    "    {\"nums\" : [10,-2,-10,-5,20], \"k\" : 2, \"output\" : 23}\n",
    "]\n",
    "\n",
    "tmp = Solution()\n",
    "\n",
    "for input in inputs:\n",
    "    output = tmp.constrainedSubsetSum(nums = input[\"nums\"], k = input[\"k\"])\n",
    "    assert output == input[\"output\"], f'Test failed for nums = {input[\"nums\"]}, k = {input[\"k\"]}. Expected = {input[\"output\"]}, Returned = {output}'"
   ]
  },
  {
   "cell_type": "markdown",
   "metadata": {},
   "source": [
    "## Results\n",
    "\n",
    "Not sure I really learned much here. Clearly dynamic programming is an area of growth for me, but this problem was tricky in how you used a deque and contructed the solution.\n",
    "\n",
    "If it isn't clear, I copied this solution from a refernce answer. I was getting close, but this solution is so elegant."
   ]
  }
 ],
 "metadata": {
  "kernelspec": {
   "display_name": "Python3.11 (interview)",
   "language": "python",
   "name": "py311-interview"
  },
  "language_info": {
   "codemirror_mode": {
    "name": "ipython",
    "version": 3
   },
   "file_extension": ".py",
   "mimetype": "text/x-python",
   "name": "python",
   "nbconvert_exporter": "python",
   "pygments_lexer": "ipython3",
   "version": "3.11.6"
  }
 },
 "nbformat": 4,
 "nbformat_minor": 2
}
