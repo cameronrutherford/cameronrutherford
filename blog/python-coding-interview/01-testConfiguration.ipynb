{
 "cells": [
  {
   "cell_type": "markdown",
   "metadata": {},
   "source": [
    "---\n",
    "title: \"Testing Python Jupyter Features\"\n",
    "format:\n",
    "    html: default\n",
    "    ipynb: default\n",
    "---"
   ]
  },
  {
   "cell_type": "markdown",
   "metadata": {},
   "source": [
    "# Pip\n",
    "\n",
    "Most everything in the environments will be installed with pip/poetry for convenience's sake."
   ]
  },
  {
   "cell_type": "code",
   "execution_count": 1,
   "metadata": {
    "tags": [],
    "vscode": {
     "languageId": "shellscript"
    }
   },
   "outputs": [
    {
     "name": "stdout",
     "output_type": "stream",
     "text": [
      "Package                   Version\n",
      "------------------------- ---------\n",
      "anyio                     4.0.0\n",
      "argon2-cffi               23.1.0\n",
      "argon2-cffi-bindings      21.2.0\n",
      "arrow                     1.3.0\n",
      "asttokens                 2.4.0\n",
      "async-lru                 2.0.4\n",
      "attrs                     23.1.0\n",
      "Babel                     2.13.0\n",
      "backcall                  0.2.0\n",
      "beautifulsoup4            4.12.2\n",
      "bleach                    6.1.0\n",
      "certifi                   2023.7.22\n",
      "cffi                      1.16.0\n",
      "charset-normalizer        3.3.0\n",
      "comm                      0.1.4\n",
      "debugpy                   1.8.0\n",
      "decorator                 5.1.1\n",
      "defusedxml                0.7.1\n",
      "executing                 2.0.0\n",
      "fastjsonschema            2.18.1\n",
      "fqdn                      1.4.0\n",
      "idna                      3.4\n",
      "importlib-metadata        6.8.0\n",
      "ipykernel                 6.25.2\n",
      "ipython                   8.16.1\n",
      "isoduration               20.11.0\n",
      "jedi                      0.19.1\n",
      "Jinja2                    3.1.2\n",
      "json5                     0.9.14\n",
      "jsonpointer               2.4\n",
      "jsonschema                4.19.1\n",
      "jsonschema-specifications 2023.7.1\n",
      "jupyter_client            8.4.0\n",
      "jupyter_core              5.4.0\n",
      "jupyter-events            0.8.0\n",
      "jupyter-lsp               2.2.0\n",
      "jupyter_server            2.8.0\n",
      "jupyter_server_terminals  0.4.4\n",
      "jupyterlab                4.0.7\n",
      "jupyterlab-pygments       0.2.2\n",
      "jupyterlab_server         2.25.0\n",
      "MarkupSafe                2.1.3\n",
      "matplotlib-inline         0.1.6\n",
      "mistune                   3.0.2\n",
      "nbclient                  0.8.0\n",
      "nbconvert                 7.9.2\n",
      "nbformat                  5.9.2\n",
      "nest-asyncio              1.5.8\n",
      "notebook_shim             0.2.3\n",
      "overrides                 7.4.0\n",
      "packaging                 23.2\n",
      "pandocfilters             1.5.0\n",
      "parso                     0.8.3\n",
      "pexpect                   4.8.0\n",
      "pickleshare               0.7.5\n",
      "pip                       23.2.1\n",
      "platformdirs              3.11.0\n",
      "prometheus-client         0.17.1\n",
      "prompt-toolkit            3.0.39\n",
      "psutil                    5.9.6\n",
      "ptyprocess                0.7.0\n",
      "pure-eval                 0.2.2\n",
      "pycparser                 2.21\n",
      "Pygments                  2.16.1\n",
      "python-dateutil           2.8.2\n",
      "python-json-logger        2.0.7\n",
      "PyYAML                    6.0.1\n",
      "pyzmq                     25.1.1\n",
      "referencing               0.30.2\n",
      "requests                  2.31.0\n",
      "rfc3339-validator         0.1.4\n",
      "rfc3986-validator         0.1.1\n",
      "rpds-py                   0.10.6\n",
      "Send2Trash                1.8.2\n",
      "setuptools                68.2.2\n",
      "six                       1.16.0\n",
      "sniffio                   1.3.0\n",
      "soupsieve                 2.5\n",
      "stack-data                0.6.3\n",
      "terminado                 0.17.1\n",
      "tinycss2                  1.2.1\n",
      "tornado                   6.3.3\n",
      "traitlets                 5.11.2\n",
      "types-python-dateutil     2.8.19.14\n",
      "uri-template              1.3.0\n",
      "urllib3                   2.0.7\n",
      "watermark                 2.4.3\n",
      "wcwidth                   0.2.8\n",
      "webcolors                 1.13\n",
      "webencodings              0.5.1\n",
      "websocket-client          1.6.4\n",
      "wheel                     0.41.2\n",
      "zipp                      3.17.0\n",
      "\n",
      "\u001b[1m[\u001b[0m\u001b[34;49mnotice\u001b[0m\u001b[1;39;49m]\u001b[0m\u001b[39;49m A new release of pip is available: \u001b[0m\u001b[31;49m23.2.1\u001b[0m\u001b[39;49m -> \u001b[0m\u001b[32;49m23.3.1\u001b[0m\n",
      "\u001b[1m[\u001b[0m\u001b[34;49mnotice\u001b[0m\u001b[1;39;49m]\u001b[0m\u001b[39;49m To update, run: \u001b[0m\u001b[32;49mpip install --upgrade pip\u001b[0m\n"
     ]
    }
   ],
   "source": [
    "!pip list"
   ]
  },
  {
   "cell_type": "markdown",
   "metadata": {},
   "source": [
    "# Poetry:\n",
    "\n",
    "Pip and poetry should show the same things by virtue of poetry environments just being pipenvs under the hood:"
   ]
  },
  {
   "cell_type": "code",
   "execution_count": 2,
   "metadata": {
    "vscode": {
     "languageId": "shellscript"
    }
   },
   "outputs": [
    {
     "name": "stdout",
     "output_type": "stream",
     "text": [
      "\u001b[36mcache-dir\u001b[39m = \u001b[39;1m\"/home/vscode/.cache/pypoetry\"\u001b[39;22m  # /home/vscode/poetry-cache\n",
      "\u001b[36mexperimental.system-git-client\u001b[39m = \u001b[39;1mfalse\u001b[39;22m\n",
      "\u001b[36minstaller.max-workers\u001b[39m = \u001b[39;1mnull\u001b[39;22m\n",
      "\u001b[36minstaller.modern-installation\u001b[39m = \u001b[39;1mtrue\u001b[39;22m\n",
      "\u001b[36minstaller.no-binary\u001b[39m = \u001b[39;1mnull\u001b[39;22m\n",
      "\u001b[36minstaller.parallel\u001b[39m = \u001b[39;1mtrue\u001b[39;22m\n",
      "\u001b[36mvirtualenvs.create\u001b[39m = \u001b[39;1mtrue\u001b[39;22m\n",
      "\u001b[36mvirtualenvs.in-project\u001b[39m = \u001b[39;1mnull\u001b[39;22m\n",
      "\u001b[36mvirtualenvs.options.always-copy\u001b[39m = \u001b[39;1mfalse\u001b[39;22m\n",
      "\u001b[36mvirtualenvs.options.no-pip\u001b[39m = \u001b[39;1mfalse\u001b[39;22m\n",
      "\u001b[36mvirtualenvs.options.no-setuptools\u001b[39m = \u001b[39;1mfalse\u001b[39;22m\n",
      "\u001b[36mvirtualenvs.options.system-site-packages\u001b[39m = \u001b[39;1mfalse\u001b[39;22m\n",
      "\u001b[36mvirtualenvs.path\u001b[39m = \u001b[39;1m\"{cache-dir}/virtualenvs\"\u001b[39;22m  # /home/vscode/poetry-cache/virtualenvs\n",
      "\u001b[36mvirtualenvs.prefer-active-python\u001b[39m = \u001b[39;1mfalse\u001b[39;22m\n",
      "\u001b[36mvirtualenvs.prompt\u001b[39m = \u001b[39;1m\"{project_name}-py{python_version}\"\u001b[39;22m\n"
     ]
    }
   ],
   "source": [
    "!poetry config --list"
   ]
  },
  {
   "cell_type": "code",
   "execution_count": 3,
   "metadata": {
    "vscode": {
     "languageId": "shellscript"
    }
   },
   "outputs": [
    {
     "name": "stdout",
     "output_type": "stream",
     "text": [
      "\u001b[34mpython-coding-interview-LMl0r2r8-py3.11 (Activated)\u001b[39m\n"
     ]
    }
   ],
   "source": [
    "!poetry env list"
   ]
  },
  {
   "cell_type": "code",
   "execution_count": 6,
   "metadata": {
    "vscode": {
     "languageId": "shellscript"
    }
   },
   "outputs": [
    {
     "name": "stdout",
     "output_type": "stream",
     "text": [
      "\u001b[36manyio                    \u001b[39m \u001b[39;1m4.0.0    \u001b[39;22m High level compatibility layer for mult...\n",
      "\u001b[36margon2-cffi              \u001b[39m \u001b[39;1m23.1.0   \u001b[39;22m Argon2 for Python\n",
      "\u001b[36margon2-cffi-bindings     \u001b[39m \u001b[39;1m21.2.0   \u001b[39;22m Low-level CFFI bindings for Argon2\n",
      "\u001b[36marrow                    \u001b[39m \u001b[39;1m1.3.0    \u001b[39;22m Better dates & times for Python\n",
      "\u001b[36masttokens                \u001b[39m \u001b[39;1m2.4.0    \u001b[39;22m Annotate AST trees with source code pos...\n",
      "\u001b[36masync-lru                \u001b[39m \u001b[39;1m2.0.4    \u001b[39;22m Simple LRU cache for asyncio\n",
      "\u001b[36mattrs                    \u001b[39m \u001b[39;1m23.1.0   \u001b[39;22m Classes Without Boilerplate\n",
      "\u001b[36mbabel                    \u001b[39m \u001b[39;1m2.13.0   \u001b[39;22m Internationalization utilities\n",
      "\u001b[36mbackcall                 \u001b[39m \u001b[39;1m0.2.0    \u001b[39;22m Specifications for callback functions p...\n",
      "\u001b[36mbeautifulsoup4           \u001b[39m \u001b[39;1m4.12.2   \u001b[39;22m Screen-scraping library\n",
      "\u001b[36mbleach                   \u001b[39m \u001b[39;1m6.1.0    \u001b[39;22m An easy safelist-based HTML-sanitizing ...\n",
      "\u001b[36mcertifi                  \u001b[39m \u001b[39;1m2023.7.22\u001b[39;22m Python package for providing Mozilla's ...\n",
      "\u001b[36mcffi                     \u001b[39m \u001b[39;1m1.16.0   \u001b[39;22m Foreign Function Interface for Python c...\n",
      "\u001b[36mcharset-normalizer       \u001b[39m \u001b[39;1m3.3.0    \u001b[39;22m The Real First Universal Charset Detect...\n",
      "\u001b[36mcomm                     \u001b[39m \u001b[39;1m0.1.4    \u001b[39;22m Jupyter Python Comm implementation, for...\n",
      "\u001b[36mdebugpy                  \u001b[39m \u001b[39;1m1.8.0    \u001b[39;22m An implementation of the Debug Adapter ...\n",
      "\u001b[36mdecorator                \u001b[39m \u001b[39;1m5.1.1    \u001b[39;22m Decorators for Humans\n",
      "\u001b[36mdefusedxml               \u001b[39m \u001b[39;1m0.7.1    \u001b[39;22m XML bomb protection for Python stdlib m...\n",
      "\u001b[36mexecuting                \u001b[39m \u001b[39;1m2.0.0    \u001b[39;22m Get the currently executing AST node of...\n",
      "\u001b[36mfastjsonschema           \u001b[39m \u001b[39;1m2.18.1   \u001b[39;22m Fastest Python implementation of JSON s...\n",
      "\u001b[36mfqdn                     \u001b[39m \u001b[39;1m1.4.0    \u001b[39;22m Validate fully-qualified domain names c...\n",
      "\u001b[36midna                     \u001b[39m \u001b[39;1m3.4      \u001b[39;22m Internationalized Domain Names in Appli...\n",
      "\u001b[36mimportlib-metadata       \u001b[39m \u001b[39;1m6.8.0    \u001b[39;22m Read metadata from Python packages\n",
      "\u001b[36mipykernel                \u001b[39m \u001b[39;1m6.25.2   \u001b[39;22m IPython Kernel for Jupyter\n",
      "\u001b[36mipython                  \u001b[39m \u001b[39;1m8.16.1   \u001b[39;22m IPython: Productive Interactive Computing\n",
      "\u001b[36misoduration              \u001b[39m \u001b[39;1m20.11.0  \u001b[39;22m Operations with ISO 8601 durations\n",
      "\u001b[36mjedi                     \u001b[39m \u001b[39;1m0.19.1   \u001b[39;22m An autocompletion tool for Python that ...\n",
      "\u001b[36mjinja2                   \u001b[39m \u001b[39;1m3.1.2    \u001b[39;22m A very fast and expressive template eng...\n",
      "\u001b[36mjson5                    \u001b[39m \u001b[39;1m0.9.14   \u001b[39;22m A Python implementation of the JSON5 da...\n",
      "\u001b[36mjsonpointer              \u001b[39m \u001b[39;1m2.4      \u001b[39;22m Identify specific nodes in a JSON docum...\n",
      "\u001b[36mjsonschema               \u001b[39m \u001b[39;1m4.19.1   \u001b[39;22m An implementation of JSON Schema valida...\n",
      "\u001b[36mjsonschema-specifications\u001b[39m \u001b[39;1m2023.7.1 \u001b[39;22m The JSON Schema meta-schemas and vocabu...\n",
      "\u001b[36mjupyter-client           \u001b[39m \u001b[39;1m8.4.0    \u001b[39;22m Jupyter protocol implementation and cli...\n",
      "\u001b[36mjupyter-core             \u001b[39m \u001b[39;1m5.4.0    \u001b[39;22m Jupyter core package. A base package on...\n",
      "\u001b[36mjupyter-events           \u001b[39m \u001b[39;1m0.8.0    \u001b[39;22m Jupyter Event System library\n",
      "\u001b[36mjupyter-lsp              \u001b[39m \u001b[39;1m2.2.0    \u001b[39;22m Multi-Language Server WebSocket proxy f...\n",
      "\u001b[36mjupyter-server           \u001b[39m \u001b[39;1m2.8.0    \u001b[39;22m The backend—i.e. core services, APIs, a...\n",
      "\u001b[36mjupyter-server-terminals \u001b[39m \u001b[39;1m0.4.4    \u001b[39;22m A Jupyter Server Extension Providing Te...\n",
      "\u001b[36mjupyterlab               \u001b[39m \u001b[39;1m4.0.7    \u001b[39;22m JupyterLab computational environment\n",
      "\u001b[36mjupyterlab-pygments      \u001b[39m \u001b[39;1m0.2.2    \u001b[39;22m Pygments theme using JupyterLab CSS var...\n",
      "\u001b[36mjupyterlab-server        \u001b[39m \u001b[39;1m2.25.0   \u001b[39;22m A set of server components for JupyterL...\n",
      "\u001b[36mmarkupsafe               \u001b[39m \u001b[39;1m2.1.3    \u001b[39;22m Safely add untrusted strings to HTML/XM...\n",
      "\u001b[36mmatplotlib-inline        \u001b[39m \u001b[39;1m0.1.6    \u001b[39;22m Inline Matplotlib backend for Jupyter\n",
      "\u001b[36mmistune                  \u001b[39m \u001b[39;1m3.0.2    \u001b[39;22m A sane and fast Markdown parser with us...\n",
      "\u001b[36mnbclient                 \u001b[39m \u001b[39;1m0.8.0    \u001b[39;22m A client library for executing notebook...\n",
      "\u001b[36mnbconvert                \u001b[39m \u001b[39;1m7.9.2    \u001b[39;22m Converting Jupyter Notebooks\n",
      "\u001b[36mnbformat                 \u001b[39m \u001b[39;1m5.9.2    \u001b[39;22m The Jupyter Notebook format\n",
      "\u001b[36mnest-asyncio             \u001b[39m \u001b[39;1m1.5.8    \u001b[39;22m Patch asyncio to allow nested event loops\n",
      "\u001b[36mnotebook-shim            \u001b[39m \u001b[39;1m0.2.3    \u001b[39;22m A shim layer for notebook traits and co...\n",
      "\u001b[36moverrides                \u001b[39m \u001b[39;1m7.4.0    \u001b[39;22m A decorator to automatically detect mis...\n",
      "\u001b[36mpackaging                \u001b[39m \u001b[39;1m23.2     \u001b[39;22m Core utilities for Python packages\n",
      "\u001b[36mpandocfilters            \u001b[39m \u001b[39;1m1.5.0    \u001b[39;22m Utilities for writing pandoc filters in...\n",
      "\u001b[36mparso                    \u001b[39m \u001b[39;1m0.8.3    \u001b[39;22m A Python Parser\n",
      "\u001b[36mpexpect                  \u001b[39m \u001b[39;1m4.8.0    \u001b[39;22m Pexpect allows easy control of interact...\n",
      "\u001b[36mpickleshare              \u001b[39m \u001b[39;1m0.7.5    \u001b[39;22m Tiny 'shelve'-like database with concur...\n",
      "\u001b[36mplatformdirs             \u001b[39m \u001b[39;1m3.11.0   \u001b[39;22m A small Python package for determining ...\n",
      "\u001b[36mprometheus-client        \u001b[39m \u001b[39;1m0.17.1   \u001b[39;22m Python client for the Prometheus monito...\n",
      "\u001b[36mprompt-toolkit           \u001b[39m \u001b[39;1m3.0.39   \u001b[39;22m Library for building powerful interacti...\n",
      "\u001b[36mpsutil                   \u001b[39m \u001b[39;1m5.9.6    \u001b[39;22m Cross-platform lib for process and syst...\n",
      "\u001b[36mptyprocess               \u001b[39m \u001b[39;1m0.7.0    \u001b[39;22m Run a subprocess in a pseudo terminal\n",
      "\u001b[36mpure-eval                \u001b[39m \u001b[39;1m0.2.2    \u001b[39;22m Safely evaluate AST nodes without side ...\n",
      "\u001b[36mpycparser                \u001b[39m \u001b[39;1m2.21     \u001b[39;22m C parser in Python\n",
      "\u001b[36mpygments                 \u001b[39m \u001b[39;1m2.16.1   \u001b[39;22m Pygments is a syntax highlighting packa...\n",
      "\u001b[36mpython-dateutil          \u001b[39m \u001b[39;1m2.8.2    \u001b[39;22m Extensions to the standard Python datet...\n",
      "\u001b[36mpython-json-logger       \u001b[39m \u001b[39;1m2.0.7    \u001b[39;22m A python library adding a json log form...\n",
      "\u001b[36mpyyaml                   \u001b[39m \u001b[39;1m6.0.1    \u001b[39;22m YAML parser and emitter for Python\n",
      "\u001b[36mpyzmq                    \u001b[39m \u001b[39;1m25.1.1   \u001b[39;22m Python bindings for 0MQ\n",
      "\u001b[36mreferencing              \u001b[39m \u001b[39;1m0.30.2   \u001b[39;22m JSON Referencing + Python\n",
      "\u001b[36mrequests                 \u001b[39m \u001b[39;1m2.31.0   \u001b[39;22m Python HTTP for Humans.\n",
      "\u001b[36mrfc3339-validator        \u001b[39m \u001b[39;1m0.1.4    \u001b[39;22m A pure python RFC3339 validator\n",
      "\u001b[36mrfc3986-validator        \u001b[39m \u001b[39;1m0.1.1    \u001b[39;22m Pure python rfc3986 validator\n",
      "\u001b[36mrpds-py                  \u001b[39m \u001b[39;1m0.10.6   \u001b[39;22m Python bindings to Rust's persistent da...\n",
      "\u001b[36msend2trash               \u001b[39m \u001b[39;1m1.8.2    \u001b[39;22m Send file to trash natively under Mac O...\n",
      "\u001b[36msetuptools               \u001b[39m \u001b[39;1m68.2.2   \u001b[39;22m Easily download, build, install, upgrad...\n",
      "\u001b[36msix                      \u001b[39m \u001b[39;1m1.16.0   \u001b[39;22m Python 2 and 3 compatibility utilities\n",
      "\u001b[36msniffio                  \u001b[39m \u001b[39;1m1.3.0    \u001b[39;22m Sniff out which async library your code...\n",
      "\u001b[36msoupsieve                \u001b[39m \u001b[39;1m2.5      \u001b[39;22m A modern CSS selector implementation fo...\n",
      "\u001b[36mstack-data               \u001b[39m \u001b[39;1m0.6.3    \u001b[39;22m Extract data from python stack frames a...\n",
      "\u001b[36mterminado                \u001b[39m \u001b[39;1m0.17.1   \u001b[39;22m Tornado websocket backend for the Xterm...\n",
      "\u001b[36mtinycss2                 \u001b[39m \u001b[39;1m1.2.1    \u001b[39;22m A tiny CSS parser\n",
      "\u001b[36mtornado                  \u001b[39m \u001b[39;1m6.3.3    \u001b[39;22m Tornado is a Python web framework and a...\n",
      "\u001b[36mtraitlets                \u001b[39m \u001b[39;1m5.11.2   \u001b[39;22m Traitlets Python configuration system\n",
      "\u001b[36mtypes-python-dateutil    \u001b[39m \u001b[39;1m2.8.19.14\u001b[39;22m Typing stubs for python-dateutil\n",
      "\u001b[36muri-template             \u001b[39m \u001b[39;1m1.3.0    \u001b[39;22m RFC 6570 URI Template Processor\n",
      "\u001b[36murllib3                  \u001b[39m \u001b[39;1m2.0.7    \u001b[39;22m HTTP library with thread-safe connectio...\n",
      "\u001b[36mwatermark                \u001b[39m \u001b[39;1m2.4.3    \u001b[39;22m IPython magic function to print date/ti...\n",
      "\u001b[36mwcwidth                  \u001b[39m \u001b[39;1m0.2.8    \u001b[39;22m Measures the displayed width of unicode...\n",
      "\u001b[36mwebcolors                \u001b[39m \u001b[39;1m1.13     \u001b[39;22m A library for working with the color fo...\n",
      "\u001b[36mwebencodings             \u001b[39m \u001b[39;1m0.5.1    \u001b[39;22m Character encoding aliases for legacy w...\n",
      "\u001b[36mwebsocket-client         \u001b[39m \u001b[39;1m1.6.4    \u001b[39;22m WebSocket client for Python with low le...\n",
      "\u001b[36mzipp                     \u001b[39m \u001b[39;1m3.17.0   \u001b[39;22m Backport of pathlib-compatible object w...\n"
     ]
    }
   ],
   "source": [
    "!poetry show"
   ]
  },
  {
   "cell_type": "markdown",
   "metadata": {},
   "source": [
    "I didn't do this programmatically, but it seems clear that poetry and pip are on the same page, but poetry gives more detailed information."
   ]
  },
  {
   "cell_type": "markdown",
   "metadata": {},
   "source": [
    "# Container specifics"
   ]
  },
  {
   "cell_type": "code",
   "execution_count": null,
   "metadata": {
    "vscode": {
     "languageId": "shellscript"
    }
   },
   "outputs": [],
   "source": [
    "!cat /proc/cpuinfo"
   ]
  },
  {
   "cell_type": "code",
   "execution_count": null,
   "metadata": {
    "vscode": {
     "languageId": "shellscript"
    }
   },
   "outputs": [],
   "source": [
    "!cat /etc/os-release"
   ]
  },
  {
   "cell_type": "markdown",
   "metadata": {},
   "source": [
    "# Watermark\n",
    "\n",
    "This is a helpful tool in summarising Python environment from what might have been missed in previous output.\n",
    "\n",
    "TODO: Use options from watermark..."
   ]
  },
  {
   "cell_type": "code",
   "execution_count": 12,
   "metadata": {},
   "outputs": [],
   "source": [
    "%load_ext watermark"
   ]
  },
  {
   "cell_type": "code",
   "execution_count": 13,
   "metadata": {
    "tags": [
     "watermark"
    ]
   },
   "outputs": [
    {
     "name": "stdout",
     "output_type": "stream",
     "text": [
      "Last updated: 2023-10-21T17:23:58.134068+00:00\n",
      "\n",
      "Python implementation: CPython\n",
      "Python version       : 3.11.6\n",
      "IPython version      : 8.16.1\n",
      "\n",
      "Compiler    : GCC 12.2.0\n",
      "OS          : Linux\n",
      "Release     : 5.15.90.1-microsoft-standard-WSL2\n",
      "Machine     : x86_64\n",
      "Processor   : \n",
      "CPU cores   : 8\n",
      "Architecture: 64bit\n",
      "\n"
     ]
    }
   ],
   "source": [
    "%watermark"
   ]
  },
  {
   "cell_type": "code",
   "execution_count": null,
   "metadata": {},
   "outputs": [],
   "source": []
  }
 ],
 "metadata": {
  "kernelspec": {
   "display_name": "LeetCode",
   "language": "python",
   "name": "py311-interview"
  },
  "language_info": {
   "codemirror_mode": {
    "name": "ipython",
    "version": 3
   },
   "file_extension": ".py",
   "mimetype": "text/x-python",
   "name": "python",
   "nbconvert_exporter": "python",
   "pygments_lexer": "ipython3",
   "version": "3.11.6"
  }
 },
 "nbformat": 4,
 "nbformat_minor": 2
}
